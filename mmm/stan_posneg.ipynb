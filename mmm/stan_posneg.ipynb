{
 "cells": [
  {
   "cell_type": "code",
   "execution_count": 1,
   "source": [
    "import nest_asyncio\n",
    "nest_asyncio.apply()"
   ],
   "outputs": [],
   "metadata": {}
  },
  {
   "cell_type": "code",
   "execution_count": 2,
   "source": [
    "import numpy as np\n",
    "import pandas as pd\n",
    "import stan\n",
    "import arviz as az"
   ],
   "outputs": [],
   "metadata": {}
  },
  {
   "cell_type": "code",
   "execution_count": 3,
   "source": [
    "import mmm_helpers as helpers"
   ],
   "outputs": [],
   "metadata": {}
  },
  {
   "cell_type": "code",
   "execution_count": 4,
   "source": [
    "# Data    \n",
    "# Four years' (209 weeks) records of sales, media impression and media spending at weekly level.   \n",
    "df = pd.read_csv('data.csv')"
   ],
   "outputs": [],
   "metadata": {}
  },
  {
   "cell_type": "code",
   "execution_count": 5,
   "source": [
    "# 1. media variables\n",
    "# media impression\n",
    "mdip_cols=[col for col in df.columns if 'mdip_' in col]\n",
    "# media spending\n",
    "mdsp_cols=[col for col in df.columns if 'mdsp_' in col]"
   ],
   "outputs": [],
   "metadata": {}
  },
  {
   "cell_type": "code",
   "execution_count": 6,
   "source": [
    "# 2. control variables\n",
    "# macro economics variables\n",
    "me_cols = [col for col in df.columns if 'me_' in col]\n",
    "# store count variables\n",
    "st_cols = ['st_ct']\n",
    "# markdown/discount variables\n",
    "mrkdn_cols = [col for col in df.columns if 'mrkdn_' in col]\n",
    "# holiday variables\n",
    "hldy_cols = [col for col in df.columns if 'hldy_' in col]\n",
    "# seasonality variables\n",
    "seas_cols = [col for col in df.columns if 'seas_' in col]\n",
    "base_vars = me_cols+st_cols+mrkdn_cols+hldy_cols+seas_cols"
   ],
   "outputs": [],
   "metadata": {}
  },
  {
   "cell_type": "code",
   "execution_count": 7,
   "source": [
    "# 3. sales variables\n",
    "sales_cols =['sales']"
   ],
   "outputs": [],
   "metadata": {}
  },
  {
   "cell_type": "code",
   "execution_count": 8,
   "source": [
    "df_ctrl, sc_ctrl = helpers.mean_center_transform(df, ['sales']+me_cols+st_cols+mrkdn_cols)"
   ],
   "outputs": [],
   "metadata": {}
  },
  {
   "cell_type": "code",
   "execution_count": 9,
   "source": [
    "df_ctrl = pd.concat([df_ctrl, df[hldy_cols+seas_cols]], axis=1)"
   ],
   "outputs": [],
   "metadata": {}
  },
  {
   "cell_type": "code",
   "execution_count": 10,
   "source": [
    "# variables positively related to sales: macro economy, store count, markdown, holiday\n",
    "pos_vars = [col for col in base_vars if col not in seas_cols]\n",
    "# using tolist ensures we can json serialize\n",
    "X1 = df_ctrl[pos_vars].values"
   ],
   "outputs": [],
   "metadata": {}
  },
  {
   "cell_type": "code",
   "execution_count": 11,
   "source": [
    "# variables may have either positive or negtive impact on sales: seasonality\n",
    "pn_vars = seas_cols\n",
    "# using tolist ensures we can json serialize\n",
    "X2 = df_ctrl[pn_vars].values"
   ],
   "outputs": [],
   "metadata": {}
  },
  {
   "cell_type": "code",
   "execution_count": 15,
   "source": [
    "ctrl_data = {\n",
    "    # num observations\n",
    "    'num_obs': len(df_ctrl),\n",
    "    # num pos control vars\n",
    "    'num_pos_ctrl': len(pos_vars),\n",
    "      # num pn control vars\n",
    "    'num_pn_ctrl': len(pn_vars),\n",
    "    # pos control values (shape = num_obs,num_ctrl_vars)\n",
    "    'pos_ctrl_vals': df_ctrl[pos_vars].values,\n",
    "    # pn control values (shape = num_obs,num_ctrl_vars)\n",
    "    'pn_ctrl_vals': df_ctrl[pn_vars].values,\n",
    "    # observed sales\n",
    "    'y': df_ctrl['sales'].values,\n",
    "}"
   ],
   "outputs": [],
   "metadata": {}
  },
  {
   "cell_type": "code",
   "execution_count": 28,
   "source": [
    "ctrl_code = '''\n",
    "data {\n",
    "  // the total number of observations\n",
    "  int num_obs;\n",
    "  // the vector of sales\n",
    "  real<lower=0> y[num_obs];\n",
    "  // num pos ctrl vars\n",
    "  int num_pos_ctrl;\n",
    "  // num pn ctrl vars\n",
    "  int num_pn_ctrl;\n",
    "  // a matrix of pos control variables\n",
    "  row_vector[num_pos_ctrl] pos_ctrl_vals[num_obs];\n",
    "  // a matrix of pos control variables\n",
    "  row_vector[num_pn_ctrl] pn_ctrl_vals[num_obs];\n",
    "}\n",
    "\n",
    "parameters {\n",
    "  // residual variance\n",
    "  real<lower=0> noise_var;\n",
    "  // the intercept\n",
    "  real tau;\n",
    "  // coefficients for pos control variables\n",
    "  vector<lower=0>[num_pos_ctrl] beta_pos_ctrl;\n",
    "    // coefficients for pn control variables\n",
    "  vector[num_pn_ctrl] beta_pn_ctrl;\n",
    "}\n",
    "\n",
    "transformed parameters {\n",
    "  // a vector of the mean response\n",
    "  real mu[num_obs];\n",
    "  for (nn in 1:num_obs) {\n",
    "    mu[nn] <- tau +\n",
    "      dot_product(pos_ctrl_vals[nn], beta_pos_ctrl) +\n",
    "      dot_product(pn_ctrl_vals[nn], beta_pn_ctrl);\n",
    "    }\n",
    "}\n",
    "\n",
    "model {\n",
    "  // PRIORS\n",
    "  tau ~ normal(0, 5);\n",
    "  for (ctrl_index in 1:num_pos_ctrl) {\n",
    "    beta_pos_ctrl[ctrl_index] ~ normal(0,1);\n",
    "  }\n",
    "  for (ctrl_index in 1:num_pn_ctrl) {\n",
    "    beta_pn_ctrl[ctrl_index] ~ normal(0,1);\n",
    "  }\n",
    "  noise_var ~ inv_gamma(0.05, 0.05 * 0.01);\n",
    "  // The Model\n",
    "  y ~ normal(mu, sqrt(noise_var));\n",
    "}\n",
    "'''"
   ],
   "outputs": [],
   "metadata": {}
  },
  {
   "cell_type": "code",
   "execution_count": 30,
   "source": [
    "ctrl_posterior = stan.build(ctrl_code,data=ctrl_data,random_seed=1)"
   ],
   "outputs": [
    {
     "output_type": "stream",
     "name": "stdout",
     "text": [
      "Building...\n"
     ]
    },
    {
     "output_type": "stream",
     "name": "stderr",
     "text": [
      "\n",
      "Building: found in cache, done.Messages from stanc:\n",
      "Warning in '/tmp/httpstan_miwck6pv/model_cwntou2c.stan', line 32, column 11: assignment operator <- is deprecated in the Stan language; use = instead.Warning in '/tmp/httpstan_miwck6pv/model_cwntou2c.stan', line 46, column 28: Argument 0.0005 suggests there may be parameters that are not unit scale; consider rescaling with a multiplier (see manual section 22.12).\n",
      "Warning in '/tmp/httpstan_miwck6pv/model_cwntou2c.stan', line 46, column 22: Argument 0.05 suggests there may be parameters that are not unit scale; consider rescaling with a multiplier (see manual section 22.12).\n"
     ]
    }
   ],
   "metadata": {}
  },
  {
   "cell_type": "code",
   "execution_count": 31,
   "source": [
    "ctrl_fit = ctrl_posterior.sample(num_chains=4, num_samples=1000)"
   ],
   "outputs": [
    {
     "output_type": "stream",
     "name": "stderr",
     "text": [
      "Sampling:   0%\n",
      "Sampling:   0% (1/8000)\n",
      "Sampling:   0% (2/8000)\n",
      "Sampling:   0% (3/8000)\n",
      "Sampling:   0% (4/8000)\n",
      "Sampling:   1% (103/8000)\n",
      "Sampling:   3% (202/8000)\n",
      "Sampling:   4% (301/8000)\n",
      "Sampling:   5% (400/8000)\n",
      "Sampling:   6% (500/8000)\n",
      "Sampling:   8% (600/8000)\n",
      "Sampling:   9% (700/8000)\n",
      "Sampling:  10% (800/8000)\n",
      "Sampling:  11% (900/8000)\n",
      "Sampling:  12% (1000/8000)\n",
      "Sampling:  14% (1100/8000)\n",
      "Sampling:  15% (1200/8000)\n",
      "Sampling:  16% (1300/8000)\n",
      "Sampling:  18% (1400/8000)\n",
      "Sampling:  19% (1500/8000)\n",
      "Sampling:  20% (1600/8000)\n",
      "Sampling:  21% (1700/8000)\n",
      "Sampling:  22% (1800/8000)\n",
      "Sampling:  24% (1900/8000)\n",
      "Sampling:  25% (2000/8000)\n",
      "Sampling:  26% (2100/8000)\n",
      "Sampling:  28% (2200/8000)\n",
      "Sampling:  29% (2300/8000)\n",
      "Sampling:  30% (2400/8000)\n",
      "Sampling:  31% (2500/8000)\n",
      "Sampling:  32% (2600/8000)\n",
      "Sampling:  34% (2700/8000)\n",
      "Sampling:  35% (2800/8000)\n",
      "Sampling:  36% (2900/8000)\n",
      "Sampling:  38% (3000/8000)\n",
      "Sampling:  39% (3100/8000)\n",
      "Sampling:  40% (3200/8000)\n",
      "Sampling:  41% (3300/8000)\n",
      "Sampling:  42% (3400/8000)\n",
      "Sampling:  44% (3500/8000)\n",
      "Sampling:  45% (3600/8000)\n",
      "Sampling:  46% (3701/8000)\n",
      "Sampling:  48% (3802/8000)\n",
      "Sampling:  49% (3903/8000)\n",
      "Sampling:  50% (4004/8000)\n",
      "Sampling:  51% (4103/8000)\n",
      "Sampling:  53% (4202/8000)\n",
      "Sampling:  54% (4301/8000)\n",
      "Sampling:  55% (4400/8000)\n",
      "Sampling:  56% (4500/8000)\n",
      "Sampling:  58% (4600/8000)\n",
      "Sampling:  59% (4700/8000)\n",
      "Sampling:  60% (4800/8000)\n",
      "Sampling:  61% (4900/8000)\n",
      "Sampling:  62% (5000/8000)\n",
      "Sampling:  64% (5100/8000)\n",
      "Sampling:  65% (5200/8000)\n",
      "Sampling:  66% (5300/8000)\n",
      "Sampling:  68% (5400/8000)\n",
      "Sampling:  69% (5500/8000)\n",
      "Sampling:  70% (5600/8000)\n",
      "Sampling:  71% (5700/8000)\n",
      "Sampling:  72% (5800/8000)\n",
      "Sampling:  74% (5900/8000)\n",
      "Sampling:  75% (6000/8000)\n",
      "Sampling:  76% (6100/8000)\n",
      "Sampling:  78% (6200/8000)\n",
      "Sampling:  79% (6300/8000)\n",
      "Sampling:  80% (6400/8000)\n",
      "Sampling:  81% (6500/8000)\n",
      "Sampling:  82% (6600/8000)\n",
      "Sampling:  84% (6700/8000)\n",
      "Sampling:  85% (6800/8000)\n",
      "Sampling:  86% (6900/8000)\n",
      "Sampling:  88% (7000/8000)\n",
      "Sampling:  89% (7100/8000)\n",
      "Sampling:  90% (7200/8000)\n",
      "Sampling:  91% (7300/8000)\n",
      "Sampling:  92% (7400/8000)\n",
      "Sampling:  94% (7500/8000)\n",
      "Sampling:  95% (7600/8000)\n",
      "Sampling:  96% (7700/8000)\n",
      "Sampling:  98% (7800/8000)\n",
      "Sampling:  99% (7900/8000)\n",
      "Sampling: 100% (8000/8000)\n",
      "Sampling: 100% (8000/8000), done.\n",
      "Messages received during sampling:\n",
      "  Gradient evaluation took 0.001243 seconds\n",
      "  1000 transitions using 10 leapfrog steps per transition would take 12.43 seconds.\n",
      "  Adjust your expectations accordingly!\n",
      "  Gradient evaluation took 0.000828 seconds\n",
      "  1000 transitions using 10 leapfrog steps per transition would take 8.28 seconds.\n",
      "  Adjust your expectations accordingly!\n",
      "  Gradient evaluation took 0.000959 seconds\n",
      "  1000 transitions using 10 leapfrog steps per transition would take 9.59 seconds.\n",
      "  Adjust your expectations accordingly!\n",
      "  Gradient evaluation took 0.00072 seconds\n",
      "  1000 transitions using 10 leapfrog steps per transition would take 7.2 seconds.\n",
      "  Adjust your expectations accordingly!\n"
     ]
    }
   ],
   "metadata": {}
  },
  {
   "cell_type": "code",
   "execution_count": 32,
   "source": [
    "ctrl_inference = az.from_pystan(ctrl_fit)"
   ],
   "outputs": [],
   "metadata": {}
  },
  {
   "cell_type": "code",
   "execution_count": 33,
   "source": [
    "ctrl_inference_summary = az.summary(ctrl_inference)"
   ],
   "outputs": [],
   "metadata": {}
  },
  {
   "cell_type": "code",
   "execution_count": 34,
   "source": [
    "ctrl_inference_summary"
   ],
   "outputs": [
    {
     "output_type": "execute_result",
     "data": {
      "text/html": [
       "<div>\n",
       "<style scoped>\n",
       "    .dataframe tbody tr th:only-of-type {\n",
       "        vertical-align: middle;\n",
       "    }\n",
       "\n",
       "    .dataframe tbody tr th {\n",
       "        vertical-align: top;\n",
       "    }\n",
       "\n",
       "    .dataframe thead th {\n",
       "        text-align: right;\n",
       "    }\n",
       "</style>\n",
       "<table border=\"1\" class=\"dataframe\">\n",
       "  <thead>\n",
       "    <tr style=\"text-align: right;\">\n",
       "      <th></th>\n",
       "      <th>mean</th>\n",
       "      <th>sd</th>\n",
       "      <th>hdi_3%</th>\n",
       "      <th>hdi_97%</th>\n",
       "      <th>mcse_mean</th>\n",
       "      <th>mcse_sd</th>\n",
       "      <th>ess_bulk</th>\n",
       "      <th>ess_tail</th>\n",
       "      <th>r_hat</th>\n",
       "    </tr>\n",
       "  </thead>\n",
       "  <tbody>\n",
       "    <tr>\n",
       "      <th>noise_var</th>\n",
       "      <td>0.101</td>\n",
       "      <td>0.011</td>\n",
       "      <td>0.082</td>\n",
       "      <td>0.122</td>\n",
       "      <td>0.000</td>\n",
       "      <td>0.000</td>\n",
       "      <td>4781.0</td>\n",
       "      <td>2892.0</td>\n",
       "      <td>1.0</td>\n",
       "    </tr>\n",
       "    <tr>\n",
       "      <th>tau</th>\n",
       "      <td>-0.807</td>\n",
       "      <td>0.651</td>\n",
       "      <td>-2.066</td>\n",
       "      <td>0.340</td>\n",
       "      <td>0.017</td>\n",
       "      <td>0.012</td>\n",
       "      <td>1502.0</td>\n",
       "      <td>2320.0</td>\n",
       "      <td>1.0</td>\n",
       "    </tr>\n",
       "    <tr>\n",
       "      <th>beta_pos_ctrl[0]</th>\n",
       "      <td>0.399</td>\n",
       "      <td>0.318</td>\n",
       "      <td>0.000</td>\n",
       "      <td>0.973</td>\n",
       "      <td>0.006</td>\n",
       "      <td>0.004</td>\n",
       "      <td>2682.0</td>\n",
       "      <td>2220.0</td>\n",
       "      <td>1.0</td>\n",
       "    </tr>\n",
       "    <tr>\n",
       "      <th>beta_pos_ctrl[1]</th>\n",
       "      <td>0.168</td>\n",
       "      <td>0.129</td>\n",
       "      <td>0.000</td>\n",
       "      <td>0.395</td>\n",
       "      <td>0.002</td>\n",
       "      <td>0.001</td>\n",
       "      <td>2923.0</td>\n",
       "      <td>1949.0</td>\n",
       "      <td>1.0</td>\n",
       "    </tr>\n",
       "    <tr>\n",
       "      <th>beta_pos_ctrl[2]</th>\n",
       "      <td>0.524</td>\n",
       "      <td>0.293</td>\n",
       "      <td>0.015</td>\n",
       "      <td>1.020</td>\n",
       "      <td>0.006</td>\n",
       "      <td>0.004</td>\n",
       "      <td>2461.0</td>\n",
       "      <td>1760.0</td>\n",
       "      <td>1.0</td>\n",
       "    </tr>\n",
       "    <tr>\n",
       "      <th>...</th>\n",
       "      <td>...</td>\n",
       "      <td>...</td>\n",
       "      <td>...</td>\n",
       "      <td>...</td>\n",
       "      <td>...</td>\n",
       "      <td>...</td>\n",
       "      <td>...</td>\n",
       "      <td>...</td>\n",
       "      <td>...</td>\n",
       "    </tr>\n",
       "    <tr>\n",
       "      <th>mu[204]</th>\n",
       "      <td>1.019</td>\n",
       "      <td>0.128</td>\n",
       "      <td>0.784</td>\n",
       "      <td>1.257</td>\n",
       "      <td>0.002</td>\n",
       "      <td>0.001</td>\n",
       "      <td>4480.0</td>\n",
       "      <td>3519.0</td>\n",
       "      <td>1.0</td>\n",
       "    </tr>\n",
       "    <tr>\n",
       "      <th>mu[205]</th>\n",
       "      <td>0.939</td>\n",
       "      <td>0.138</td>\n",
       "      <td>0.684</td>\n",
       "      <td>1.195</td>\n",
       "      <td>0.002</td>\n",
       "      <td>0.002</td>\n",
       "      <td>3399.0</td>\n",
       "      <td>3027.0</td>\n",
       "      <td>1.0</td>\n",
       "    </tr>\n",
       "    <tr>\n",
       "      <th>mu[206]</th>\n",
       "      <td>0.688</td>\n",
       "      <td>0.096</td>\n",
       "      <td>0.518</td>\n",
       "      <td>0.876</td>\n",
       "      <td>0.001</td>\n",
       "      <td>0.001</td>\n",
       "      <td>4275.0</td>\n",
       "      <td>3378.0</td>\n",
       "      <td>1.0</td>\n",
       "    </tr>\n",
       "    <tr>\n",
       "      <th>mu[207]</th>\n",
       "      <td>0.644</td>\n",
       "      <td>0.096</td>\n",
       "      <td>0.477</td>\n",
       "      <td>0.834</td>\n",
       "      <td>0.001</td>\n",
       "      <td>0.001</td>\n",
       "      <td>4252.0</td>\n",
       "      <td>3702.0</td>\n",
       "      <td>1.0</td>\n",
       "    </tr>\n",
       "    <tr>\n",
       "      <th>mu[208]</th>\n",
       "      <td>0.667</td>\n",
       "      <td>0.095</td>\n",
       "      <td>0.485</td>\n",
       "      <td>0.840</td>\n",
       "      <td>0.001</td>\n",
       "      <td>0.001</td>\n",
       "      <td>4288.0</td>\n",
       "      <td>3667.0</td>\n",
       "      <td>1.0</td>\n",
       "    </tr>\n",
       "  </tbody>\n",
       "</table>\n",
       "<p>257 rows × 9 columns</p>\n",
       "</div>"
      ],
      "text/plain": [
       "                   mean     sd  hdi_3%  hdi_97%  mcse_mean  mcse_sd  ess_bulk  \\\n",
       "noise_var         0.101  0.011   0.082    0.122      0.000    0.000    4781.0   \n",
       "tau              -0.807  0.651  -2.066    0.340      0.017    0.012    1502.0   \n",
       "beta_pos_ctrl[0]  0.399  0.318   0.000    0.973      0.006    0.004    2682.0   \n",
       "beta_pos_ctrl[1]  0.168  0.129   0.000    0.395      0.002    0.001    2923.0   \n",
       "beta_pos_ctrl[2]  0.524  0.293   0.015    1.020      0.006    0.004    2461.0   \n",
       "...                 ...    ...     ...      ...        ...      ...       ...   \n",
       "mu[204]           1.019  0.128   0.784    1.257      0.002    0.001    4480.0   \n",
       "mu[205]           0.939  0.138   0.684    1.195      0.002    0.002    3399.0   \n",
       "mu[206]           0.688  0.096   0.518    0.876      0.001    0.001    4275.0   \n",
       "mu[207]           0.644  0.096   0.477    0.834      0.001    0.001    4252.0   \n",
       "mu[208]           0.667  0.095   0.485    0.840      0.001    0.001    4288.0   \n",
       "\n",
       "                  ess_tail  r_hat  \n",
       "noise_var           2892.0    1.0  \n",
       "tau                 2320.0    1.0  \n",
       "beta_pos_ctrl[0]    2220.0    1.0  \n",
       "beta_pos_ctrl[1]    1949.0    1.0  \n",
       "beta_pos_ctrl[2]    1760.0    1.0  \n",
       "...                    ...    ...  \n",
       "mu[204]             3519.0    1.0  \n",
       "mu[205]             3027.0    1.0  \n",
       "mu[206]             3378.0    1.0  \n",
       "mu[207]             3702.0    1.0  \n",
       "mu[208]             3667.0    1.0  \n",
       "\n",
       "[257 rows x 9 columns]"
      ]
     },
     "metadata": {},
     "execution_count": 34
    }
   ],
   "metadata": {}
  },
  {
   "cell_type": "code",
   "execution_count": null,
   "source": [
    "az.plot_trace(var_names="
   ],
   "outputs": [],
   "metadata": {}
  },
  {
   "cell_type": "code",
   "execution_count": null,
   "source": [],
   "outputs": [],
   "metadata": {}
  },
  {
   "cell_type": "code",
   "execution_count": null,
   "source": [],
   "outputs": [],
   "metadata": {}
  },
  {
   "cell_type": "code",
   "execution_count": 16,
   "source": [
    "def extract_ctrl_model(fit_result, pos_vars=pos_vars, pn_vars=pn_vars, \n",
    "                       extract_param_list=False):\n",
    "    ctrl_model = {}\n",
    "    ctrl_model['pos_vars'] = pos_vars\n",
    "    ctrl_model['pn_vars'] = pn_vars\n",
    "    ctrl_model['beta1'] = fit_result['beta1'].mean(axis=1).tolist()\n",
    "    ctrl_model['beta2'] = fit_result['beta2'].mean(axis=1).tolist()\n",
    "    ctrl_model['alpha'] = fit_result['alpha'].mean()\n",
    "    if extract_param_list:\n",
    "        ctrl_model['beta1_list'] = fit_result['beta1'].tolist()\n",
    "        ctrl_model['beta2_list'] = fit_result['beta2'].tolist()\n",
    "        ctrl_model['alpha_list'] = fit_result['alpha'].tolist()\n",
    "    return ctrl_model"
   ],
   "outputs": [],
   "metadata": {}
  },
  {
   "cell_type": "code",
   "execution_count": 17,
   "source": [
    "base_sales_model = extract_ctrl_model(ctrl_fit, pos_vars=pos_vars, pn_vars=pn_vars)"
   ],
   "outputs": [],
   "metadata": {}
  },
  {
   "cell_type": "code",
   "execution_count": 18,
   "source": [
    "def ctrl_model_predict(ctrl_model, df):\n",
    "    pos_vars, pn_vars = ctrl_model['pos_vars'], ctrl_model['pn_vars'] \n",
    "    X1, X2 = df[pos_vars].values, df[pn_vars].values\n",
    "    beta1, beta2 = np.array(ctrl_model['beta1']), np.array(ctrl_model['beta2'])\n",
    "    alpha = ctrl_model['alpha']\n",
    "    y_pred = np.dot(X1,beta1) + np.dot(X2,beta2) + alpha\n",
    "    return y_pred"
   ],
   "outputs": [],
   "metadata": {}
  },
  {
   "cell_type": "code",
   "execution_count": 19,
   "source": [
    "base_sales = ctrl_model_predict(base_sales_model, df_ctrl)"
   ],
   "outputs": [],
   "metadata": {}
  },
  {
   "cell_type": "code",
   "execution_count": 20,
   "source": [
    "df['base_sales'] = base_sales*sc_ctrl['sales']\n",
    "# evaluate control model\n",
    "print('mape: ',helpers.mean_absolute_percentage_error(df['sales'], df['base_sales']))"
   ],
   "outputs": [
    {
     "output_type": "stream",
     "name": "stdout",
     "text": [
      "mape:  26.165350389170634\n"
     ]
    }
   ],
   "metadata": {}
  },
  {
   "cell_type": "code",
   "execution_count": 21,
   "source": [
    "# 2.2 Marketing Mix Model\n",
    "df_mmm, sc_mmm = helpers.mean_log1p_transform(df, ['sales', 'base_sales'])\n",
    "mu_mdip = df[mdip_cols].apply(np.mean, axis=0).values\n",
    "max_lag = 8\n",
    "num_media = len(mdip_cols)\n",
    "# padding zero * (max_lag-1) rows\n",
    "X_media = np.concatenate((np.zeros((max_lag-1, num_media)), df[mdip_cols].values), axis=0)\n",
    "X_ctrl = df_mmm['base_sales'].values.reshape(len(df),1)\n",
    "mmm_data = {\n",
    "    'N': len(df),\n",
    "    'max_lag': max_lag, \n",
    "    'num_media': num_media,\n",
    "    'X_media': X_media, \n",
    "    'mu_mdip': mu_mdip,\n",
    "    'num_ctrl': X_ctrl.shape[1],\n",
    "    'X_ctrl': X_ctrl, \n",
    "    'y': df_mmm['sales'].values\n",
    "}"
   ],
   "outputs": [],
   "metadata": {}
  },
  {
   "cell_type": "code",
   "execution_count": 22,
   "source": [
    "mmm_code = '''\n",
    "functions {\n",
    "  // the adstock transformation with a vector of weights\n",
    "  real Adstock(vector t, row_vector weights) {\n",
    "    return dot_product(t, weights) / sum(weights);\n",
    "  }\n",
    "}\n",
    "data {\n",
    "  // the total number of observations\n",
    "  int<lower=1> N;\n",
    "  // the vector of sales\n",
    "  real y[N];\n",
    "  // the maximum duration of lag effect, in weeks\n",
    "  int<lower=1> max_lag;\n",
    "  // the number of media channels\n",
    "  int<lower=1> num_media;\n",
    "  // matrix of media variables\n",
    "  matrix[N+max_lag-1, num_media] X_media;\n",
    "  // vector of media variables' mean\n",
    "  real mu_mdip[num_media];\n",
    "  // the number of other control variables\n",
    "  int<lower=1> num_ctrl;\n",
    "  // a matrix of control variables\n",
    "  matrix[N, num_ctrl] X_ctrl;\n",
    "}\n",
    "parameters {\n",
    "  // residual variance\n",
    "  real<lower=0> noise_var;\n",
    "  // the intercept\n",
    "  real tau;\n",
    "  // the coefficients for media variables and base sales\n",
    "  vector<lower=0>[num_media+num_ctrl] beta;\n",
    "  // the decay and peak parameter for the adstock transformation of\n",
    "  // each media\n",
    "  vector<lower=0,upper=1>[num_media] decay;\n",
    "  vector<lower=0,upper=ceil(max_lag/2.0)>[num_media] peak;\n",
    "}\n",
    "transformed parameters {\n",
    "  // the cumulative media effect after adstock\n",
    "  real cum_effect;\n",
    "  // matrix of media variables after adstock\n",
    "  matrix[N, num_media] X_media_adstocked;\n",
    "  // matrix of all predictors\n",
    "  matrix[N, num_media+num_ctrl] X;\n",
    "  \n",
    "  // adstock, mean-center, log1p transformation\n",
    "  row_vector[max_lag] lag_weights;\n",
    "  for (nn in 1:N) {\n",
    "    for (media in 1 : num_media) {\n",
    "      for (lag in 1 : max_lag) {\n",
    "        lag_weights[max_lag-lag+1] <- pow(decay[media], (lag - 1 - peak[media]) ^ 2);\n",
    "      }\n",
    "     cum_effect <- Adstock(sub_col(X_media, nn, media, max_lag), lag_weights);\n",
    "     X_media_adstocked[nn, media] <- log1p(cum_effect/mu_mdip[media]);\n",
    "    }\n",
    "  X <- append_col(X_media_adstocked, X_ctrl);\n",
    "  } \n",
    "}\n",
    "model {\n",
    "  decay ~ beta(3,3);\n",
    "  peak ~ uniform(0, ceil(max_lag/2.0));\n",
    "  tau ~ normal(0, 5);\n",
    "  for (i in 1 : num_media+num_ctrl) {\n",
    "    beta[i] ~ normal(0, 1);\n",
    "  }\n",
    "  noise_var ~ inv_gamma(0.05, 0.05 * 0.01);\n",
    "  y ~ normal(tau + X * beta, sqrt(noise_var));\n",
    "}\n",
    "'''"
   ],
   "outputs": [],
   "metadata": {}
  },
  {
   "cell_type": "code",
   "execution_count": 25,
   "source": [
    "mmm_posterior = stan.build(mmm_code,data=mmm_data)"
   ],
   "outputs": [
    {
     "output_type": "stream",
     "name": "stdout",
     "text": [
      "Building...\n"
     ]
    },
    {
     "output_type": "stream",
     "name": "stderr",
     "text": [
      "\n",
      "Building: found in cache, done.Messages from stanc:\n",
      "Warning in '/tmp/httpstan_keqhy6qv/model_o3nw5otz.stan', line 51, column 35: assignment operator <- is deprecated in the Stan language; use = instead.\n",
      "Warning in '/tmp/httpstan_keqhy6qv/model_o3nw5otz.stan', line 53, column 16: assignment operator <- is deprecated in the Stan language; use = instead.\n",
      "Warning in '/tmp/httpstan_keqhy6qv/model_o3nw5otz.stan', line 54, column 34: assignment operator <- is deprecated in the Stan language; use = instead.\n",
      "Warning in '/tmp/httpstan_keqhy6qv/model_o3nw5otz.stan', line 56, column 4: assignment operator <- is deprecated in the Stan language; use = instead.Warning in '/tmp/httpstan_keqhy6qv/model_o3nw5otz.stan', line 66, column 30: Argument 0.0005 suggests there may be parameters that are not unit scale; consider rescaling with a multiplier (see manual section 22.12).\n",
      "Warning in '/tmp/httpstan_keqhy6qv/model_o3nw5otz.stan', line 66, column 24: Argument 0.05 suggests there may be parameters that are not unit scale; consider rescaling with a multiplier (see manual section 22.12).\n"
     ]
    }
   ],
   "metadata": {}
  },
  {
   "cell_type": "code",
   "execution_count": 26,
   "source": [
    "mmm_fit = mmm_posterior.sample(num_chains=3, num_samples=20)"
   ],
   "outputs": [
    {
     "output_type": "stream",
     "name": "stderr",
     "text": [
      "Sampling:   0%\n",
      "Sampling:   0% (1/3600)\n",
      "Sampling:   0% (2/3600)\n",
      "Sampling:   0% (3/3600)"
     ]
    }
   ],
   "metadata": {}
  },
  {
   "cell_type": "code",
   "execution_count": null,
   "source": [],
   "outputs": [],
   "metadata": {}
  }
 ],
 "metadata": {
  "kernelspec": {
   "name": "python3",
   "display_name": "Python 3.9.5 64-bit ('mmm_venv': venv)"
  },
  "language_info": {
   "codemirror_mode": {
    "name": "ipython",
    "version": 3
   },
   "file_extension": ".py",
   "mimetype": "text/x-python",
   "name": "python",
   "nbconvert_exporter": "python",
   "pygments_lexer": "ipython3",
   "version": "3.9.5"
  },
  "interpreter": {
   "hash": "22f7b6250beb416fdc5cbe0cc3398fe4aac3ebb2dd05159e28f1ef5406b3f75c"
  }
 },
 "nbformat": 4,
 "nbformat_minor": 5
}