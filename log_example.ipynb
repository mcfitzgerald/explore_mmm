{
 "cells": [
  {
   "cell_type": "code",
   "execution_count": 1,
   "source": [
    "import logging\n",
    "\n",
    "# create logger\n",
    "logger = logging.getLogger(__name__)\n",
    "py_warnings_logger = logging.getLogger('py.warnings')\n",
    "\n",
    "logging.captureWarnings(True)\n",
    "\n",
    "logger.setLevel(logging.DEBUG)\n",
    "\n",
    "# create file handler\n",
    "fh = logging.FileHandler('spam.log')\n",
    "\n",
    "# create console handler and set level to debug\n",
    "# best for development or debugging\n",
    "consoleHandler = logging.StreamHandler()\n",
    "consoleHandler.setLevel(logging.ERROR)\n",
    "\n",
    "# create formatter\n",
    "formatter = logging.Formatter('%(asctime)s - %(name)s - %(levelname)s - %(message)s')\n",
    "\n",
    "# add formatter to ch\n",
    "consoleHandler.setFormatter(formatter)\n",
    "fh.setFormatter(formatter)\n",
    "\n",
    "# add ch to logger\n",
    "logger.addHandler(consoleHandler)\n",
    "logger.addHandler(fh)\n",
    "py_warnings_logger.addHandler(fh)"
   ],
   "outputs": [],
   "metadata": {}
  },
  {
   "cell_type": "code",
   "execution_count": 2,
   "source": [
    "logger.debug('debug message')\n",
    "logger.info('info message')\n",
    "logger.warning('warn message')\n",
    "logger.error('error message')\n",
    "logger.critical('critical message')"
   ],
   "outputs": [
    {
     "output_type": "stream",
     "name": "stderr",
     "text": [
      "2021-08-22 08:55:55,879 - __main__ - ERROR - error message\n",
      "2021-08-22 08:55:55,885 - __main__ - CRITICAL - critical message\n"
     ]
    }
   ],
   "metadata": {}
  },
  {
   "cell_type": "code",
   "execution_count": 5,
   "source": [
    "import warnings"
   ],
   "outputs": [],
   "metadata": {}
  },
  {
   "cell_type": "code",
   "execution_count": 6,
   "source": [
    "warnings.warn('This is a warning message')"
   ],
   "outputs": [],
   "metadata": {}
  },
  {
   "cell_type": "code",
   "execution_count": null,
   "source": [],
   "outputs": [],
   "metadata": {}
  }
 ],
 "metadata": {
  "orig_nbformat": 4,
  "language_info": {
   "name": "python",
   "version": "3.9.5",
   "mimetype": "text/x-python",
   "codemirror_mode": {
    "name": "ipython",
    "version": 3
   },
   "pygments_lexer": "ipython3",
   "nbconvert_exporter": "python",
   "file_extension": ".py"
  },
  "kernelspec": {
   "name": "python3",
   "display_name": "Python 3.9.5 64-bit ('mmm_venv': venv)"
  },
  "interpreter": {
   "hash": "22f7b6250beb416fdc5cbe0cc3398fe4aac3ebb2dd05159e28f1ef5406b3f75c"
  }
 },
 "nbformat": 4,
 "nbformat_minor": 2
}