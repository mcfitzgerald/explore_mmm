{
    "cells": [
        {
            "cell_type": "code",
            "execution_count": 1,
            "source": [
                "import nest_asyncio\n",
                "nest_asyncio.apply()"
            ],
            "outputs": [],
            "metadata": {}
        },
        {
            "cell_type": "code",
            "execution_count": 2,
            "source": [
                "import stan"
            ],
            "outputs": [],
            "metadata": {}
        },
        {
            "cell_type": "code",
            "execution_count": 3,
            "source": [
                "schools_data = {\"J\": 8,\n",
                "                \"y\": [28,  8, -3,  7, -1,  1, 18, 12],\n",
                "                \"sigma\": [15, 10, 16, 11,  9, 11, 10, 18]}"
            ],
            "outputs": [],
            "metadata": {}
        },
        {
            "cell_type": "code",
            "execution_count": 4,
            "source": [
                "schools_code = \"\"\"\n",
                "data {\n",
                "  int<lower=0> J;         // number of schools\n",
                "  real y[J];              // estimated treatment effects\n",
                "  real<lower=0> sigma[J]; // standard error of effect estimates\n",
                "}\n",
                "parameters {\n",
                "  real mu;                // population treatment effect\n",
                "  real<lower=0> tau;      // standard deviation in treatment effects\n",
                "  vector[J] eta;          // unscaled deviation from mu by school\n",
                "}\n",
                "transformed parameters {\n",
                "  vector[J] theta = mu + tau * eta;        // school treatment effects\n",
                "}\n",
                "model {\n",
                "  target += normal_lpdf(eta | 0, 1);       // prior log-density\n",
                "  target += normal_lpdf(y | theta, sigma); // log-likelihood\n",
                "}\n",
                "\"\"\""
            ],
            "outputs": [],
            "metadata": {}
        },
        {
            "cell_type": "code",
            "execution_count": 5,
            "source": [
                "posterior = stan.build(schools_code, data=schools_data)"
            ],
            "outputs": [
                {
                    "output_type": "stream",
                    "name": "stdout",
                    "text": [
                        "Building...\n"
                    ]
                },
                {
                    "output_type": "stream",
                    "name": "stderr",
                    "text": [
                        "\n",
                        "Building: found in cache, done.Messages from stanc:\n",
                        "Warning: The parameter tau has no priors.\n",
                        "Warning: The parameter mu has no priors.\n"
                    ]
                }
            ],
            "metadata": {}
        },
        {
            "cell_type": "code",
            "execution_count": 6,
            "source": [
                "fit = posterior.sample(num_chains=4, num_samples=1000, num_warmup=1000,save_warmup=True)"
            ],
            "outputs": [
                {
                    "output_type": "stream",
                    "name": "stderr",
                    "text": [
                        "Sampling:   0%\n",
                        "Sampling:  25% (2000/8000)\n",
                        "Sampling:  50% (4000/8000)\n",
                        "Sampling:  75% (6000/8000)\n",
                        "Sampling: 100% (8000/8000)\n",
                        "Sampling: 100% (8000/8000), done.\n",
                        "Messages received during sampling:\n",
                        "  Gradient evaluation took 6.1e-05 seconds\n",
                        "  1000 transitions using 10 leapfrog steps per transition would take 0.61 seconds.\n",
                        "  Adjust your expectations accordingly!\n",
                        "  Gradient evaluation took 5e-06 seconds\n",
                        "  1000 transitions using 10 leapfrog steps per transition would take 0.05 seconds.\n",
                        "  Adjust your expectations accordingly!\n",
                        "  Gradient evaluation took 5e-06 seconds\n",
                        "  1000 transitions using 10 leapfrog steps per transition would take 0.05 seconds.\n",
                        "  Adjust your expectations accordingly!\n",
                        "  Gradient evaluation took 8e-06 seconds\n",
                        "  1000 transitions using 10 leapfrog steps per transition would take 0.08 seconds.\n",
                        "  Adjust your expectations accordingly!\n"
                    ]
                }
            ],
            "metadata": {}
        },
        {
            "cell_type": "code",
            "execution_count": 10,
            "source": [
                "df = fit.to_frame()"
            ],
            "outputs": [],
            "metadata": {}
        },
        {
            "cell_type": "code",
            "execution_count": 11,
            "source": [
                "df.columns"
            ],
            "outputs": [
                {
                    "output_type": "execute_result",
                    "data": {
                        "text/plain": [
                            "Index(['lp__', 'accept_stat__', 'stepsize__', 'treedepth__', 'n_leapfrog__',\n",
                            "       'divergent__', 'energy__', 'mu', 'tau', 'eta.1', 'eta.2', 'eta.3',\n",
                            "       'eta.4', 'eta.5', 'eta.6', 'eta.7', 'eta.8', 'theta.1', 'theta.2',\n",
                            "       'theta.3', 'theta.4', 'theta.5', 'theta.6', 'theta.7', 'theta.8'],\n",
                            "      dtype='object', name='parameters')"
                        ]
                    },
                    "metadata": {},
                    "execution_count": 11
                }
            ],
            "metadata": {}
        },
        {
            "cell_type": "code",
            "execution_count": 12,
            "source": [
                "import arviz as av\n",
                "import numpy as np"
            ],
            "outputs": [],
            "metadata": {}
        },
        {
            "cell_type": "code",
            "execution_count": 14,
            "source": [
                "stan_data = av.from_pystan(\n",
                "    posterior=fit,\n",
                "    observed_data=[\"y\"],\n",
                "    coords={\"school\": np.arange(eight_school_data[\"J\"])},\n",
                "    dims={\n",
                "        \"theta\": [\"school\"],\n",
                "        \"y\": [\"school\"],\n",
                "        \"log_lik\": [\"school\"],\n",
                "        \"y_hat\": [\"school\"],\n",
                "        \"theta_tilde\": [\"school\"],\n",
                "    },\n",
                ")"
            ],
            "outputs": [
                {
                    "output_type": "error",
                    "ename": "NameError",
                    "evalue": "name 'np' is not defined",
                    "traceback": [
                        "\u001b[0;31m---------------------------------------------------------------------------\u001b[0m",
                        "\u001b[0;31mNameError\u001b[0m                                 Traceback (most recent call last)",
                        "\u001b[0;32m/tmp/ipykernel_1708/3450744184.py\u001b[0m in \u001b[0;36m<module>\u001b[0;34m\u001b[0m\n\u001b[1;32m      2\u001b[0m     \u001b[0mposterior\u001b[0m\u001b[0;34m=\u001b[0m\u001b[0mfit\u001b[0m\u001b[0;34m,\u001b[0m\u001b[0;34m\u001b[0m\u001b[0;34m\u001b[0m\u001b[0m\n\u001b[1;32m      3\u001b[0m     \u001b[0mobserved_data\u001b[0m\u001b[0;34m=\u001b[0m\u001b[0;34m[\u001b[0m\u001b[0;34m\"y\"\u001b[0m\u001b[0;34m]\u001b[0m\u001b[0;34m,\u001b[0m\u001b[0;34m\u001b[0m\u001b[0;34m\u001b[0m\u001b[0m\n\u001b[0;32m----> 4\u001b[0;31m     \u001b[0mcoords\u001b[0m\u001b[0;34m=\u001b[0m\u001b[0;34m{\u001b[0m\u001b[0;34m\"school\"\u001b[0m\u001b[0;34m:\u001b[0m \u001b[0mnp\u001b[0m\u001b[0;34m.\u001b[0m\u001b[0marange\u001b[0m\u001b[0;34m(\u001b[0m\u001b[0meight_school_data\u001b[0m\u001b[0;34m[\u001b[0m\u001b[0;34m\"J\"\u001b[0m\u001b[0;34m]\u001b[0m\u001b[0;34m)\u001b[0m\u001b[0;34m}\u001b[0m\u001b[0;34m,\u001b[0m\u001b[0;34m\u001b[0m\u001b[0;34m\u001b[0m\u001b[0m\n\u001b[0m\u001b[1;32m      5\u001b[0m     dims={\n\u001b[1;32m      6\u001b[0m         \u001b[0;34m\"theta\"\u001b[0m\u001b[0;34m:\u001b[0m \u001b[0;34m[\u001b[0m\u001b[0;34m\"school\"\u001b[0m\u001b[0;34m]\u001b[0m\u001b[0;34m,\u001b[0m\u001b[0;34m\u001b[0m\u001b[0;34m\u001b[0m\u001b[0m\n",
                        "\u001b[0;31mNameError\u001b[0m: name 'np' is not defined"
                    ]
                }
            ],
            "metadata": {}
        },
        {
            "cell_type": "code",
            "execution_count": null,
            "source": [],
            "outputs": [],
            "metadata": {}
        }
    ],
    "metadata": {
        "orig_nbformat": 4,
        "language_info": {
            "name": "python",
            "version": "3.9.5",
            "mimetype": "text/x-python",
            "codemirror_mode": {
                "name": "ipython",
                "version": 3
            },
            "pygments_lexer": "ipython3",
            "nbconvert_exporter": "python",
            "file_extension": ".py"
        },
        "kernelspec": {
            "name": "python3",
            "display_name": "Python 3.9.5 64-bit ('mmm_venv': venv)"
        },
        "interpreter": {
            "hash": "22f7b6250beb416fdc5cbe0cc3398fe4aac3ebb2dd05159e28f1ef5406b3f75c"
        }
    },
    "nbformat": 4,
    "nbformat_minor": 2
}